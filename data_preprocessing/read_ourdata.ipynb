{
 "cells": [
  {
   "cell_type": "code",
   "execution_count": null,
   "metadata": {},
   "outputs": [],
   "source": [
    "''' Read our ECG data, normalize, resample and output'''\n",
    "\n",
    "import numpy as np\n",
    "import pandas as pd\n",
    "import matplotlib.pyplot as plt\n",
    "from sklearn import preprocessing\n",
    "import scipy.signal\n",
    "\n",
    "\n",
    "%matplotlib inline"
   ]
  },
  {
   "cell_type": "code",
   "execution_count": 7,
   "metadata": {},
   "outputs": [
    {
     "name": "stdout",
     "output_type": "stream",
     "text": [
      "(85132, 1)\n"
     ]
    }
   ],
   "source": [
    "ECG_data = pd.read_csv(\"./our_database/23032023/WAVE(2023.3.23-15.20.28).csv\", skiprows=3).values\n",
    "\n",
    "lead2 = ECG_data[:, 1].reshape(-1, 1)\n",
    "\n",
    "print(lead2.shape)"
   ]
  },
  {
   "cell_type": "code",
   "execution_count": 16,
   "metadata": {},
   "outputs": [
    {
     "name": "stdout",
     "output_type": "stream",
     "text": [
      "(5000, 1)\n",
      "(18, 5000)\n"
     ]
    }
   ],
   "source": [
    "# segment the data into shape (m, 5000)\n",
    "\n",
    "\n",
    "f = 500\n",
    "segmented_len = 10\n",
    "count = 0\n",
    "k=0\n",
    "\n",
    "segmented_data = lead2[0:(k+1) * f * segmented_len]\n",
    "print(segmented_data.shape)\n",
    "\n",
    "while (k+1) * f * segmented_len <= len(lead2):\n",
    "    temp = lead2[(k) * f * segmented_len : (k+1) * f * segmented_len]\n",
    "    segmented_data = np.column_stack((segmented_data, temp))\n",
    "    k += 1\n",
    "    \n",
    "segmented_data = np.transpose(segmented_data)\n",
    "print(segmented_data.shape)"
   ]
  },
  {
   "cell_type": "code",
   "execution_count": 18,
   "metadata": {},
   "outputs": [
    {
     "name": "stdout",
     "output_type": "stream",
     "text": [
      "(18, 3600)\n"
     ]
    }
   ],
   "source": [
    "# resample the data from (m, 5000) into shape (m, 3600)\n",
    "\n",
    "resampled_ECG = np.zeros((segmented_data.shape[0], 3600))\n",
    "\n",
    "for i in range(segmented_data.shape[0]):\n",
    "    re_signal = scipy.signal.resample(segmented_data[i, :], 3600)  # resampling to 360 x 10 secs = 3600\n",
    "    re_signal_rounded = np.round(re_signal, 3)    # round to 3 decimal\n",
    "    resampled_ECG[i, :] = re_signal_rounded\n",
    "    \n",
    "print(resampled_ECG.shape)"
   ]
  },
  {
   "cell_type": "code",
   "execution_count": 19,
   "metadata": {},
   "outputs": [],
   "source": [
    "np.savetxt(\"./our_database/23032023/segmented_data.csv\", resampled_ECG, delimiter=\",\")"
   ]
  },
  {
   "cell_type": "code",
   "execution_count": null,
   "metadata": {},
   "outputs": [],
   "source": []
  }
 ],
 "metadata": {
  "kernelspec": {
   "display_name": "py39",
   "language": "python",
   "name": "python3"
  },
  "language_info": {
   "codemirror_mode": {
    "name": "ipython",
    "version": 3
   },
   "file_extension": ".py",
   "mimetype": "text/x-python",
   "name": "python",
   "nbconvert_exporter": "python",
   "pygments_lexer": "ipython3",
   "version": "3.9.0"
  },
  "orig_nbformat": 4
 },
 "nbformat": 4,
 "nbformat_minor": 2
}
